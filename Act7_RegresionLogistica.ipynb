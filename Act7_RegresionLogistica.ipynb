{
 "cells": [
  {
   "cell_type": "markdown",
   "metadata": {},
   "source": [
    "# Act 7. Regresion Logistica\n",
    "_____________________________\n",
    "\n",
    "- Angel Ruben Vazquez Rivera |\n",
    "- Jose Israel Perez Ontiveros | A01423294  \n",
    "- Maximiliano Romero Budib |"
   ]
  },
  {
   "cell_type": "markdown",
   "metadata": {},
   "source": [
    "### 1. Importar librerias"
   ]
  },
  {
   "cell_type": "code",
   "execution_count": 2,
   "metadata": {},
   "outputs": [],
   "source": [
    "import pandas as pd\n",
    "import numpy as np\n",
    "import matplotlib.pyplot as plt\n",
    "import scipy.special as special\n",
    "from scipy.optimize import curve_fit\n",
    "import seaborn as sns\n",
    "from sklearn.metrics import r2_score\n",
    "from funpymodeling.exploratory import freq_tbl\n",
    "from sklearn.model_selection import train_test_split\n",
    "from sklearn.preprocessing import StandardScaler\n",
    "from sklearn.linear_model import LogisticRegression\n",
    "from sklearn.metrics import confusion_matrix, precision_score, accuracy_score, recall_score, f1_score\n",
    "\n",
    "#Ansy colors format\n",
    "reset =  \"\\033[0m\"\n",
    "black = \"\\033[30m\"\n",
    "red = '\\033[31m'\n",
    "green = \"\\033[32m\"\n",
    "yellow = \"\\033[33m\"\n",
    "blue = \"\\033[34m\"\n",
    "magenta = \"\\033[35m\"\n",
    "cyan = \"\\033[36m\"\n",
    "white = \"\\033[37m\""
   ]
  },
  {
   "cell_type": "markdown",
   "metadata": {},
   "source": [
    "### 2. Cargar archivo"
   ]
  },
  {
   "cell_type": "code",
   "execution_count": 3,
   "metadata": {},
   "outputs": [
    {
     "data": {
      "text/html": [
       "<div>\n",
       "<style scoped>\n",
       "    .dataframe tbody tr th:only-of-type {\n",
       "        vertical-align: middle;\n",
       "    }\n",
       "\n",
       "    .dataframe tbody tr th {\n",
       "        vertical-align: top;\n",
       "    }\n",
       "\n",
       "    .dataframe thead th {\n",
       "        text-align: right;\n",
       "    }\n",
       "</style>\n",
       "<table border=\"1\" class=\"dataframe\">\n",
       "  <thead>\n",
       "    <tr style=\"text-align: right;\">\n",
       "      <th></th>\n",
       "      <th>Income</th>\n",
       "      <th>Age</th>\n",
       "      <th>Experience</th>\n",
       "      <th>Married/Single</th>\n",
       "      <th>House_Ownership</th>\n",
       "      <th>Car_Ownership</th>\n",
       "      <th>Profession</th>\n",
       "      <th>CITY</th>\n",
       "      <th>STATE</th>\n",
       "      <th>CURRENT_JOB_YRS</th>\n",
       "      <th>CURRENT_HOUSE_YRS</th>\n",
       "      <th>Risk_Flag</th>\n",
       "    </tr>\n",
       "    <tr>\n",
       "      <th>Id</th>\n",
       "      <th></th>\n",
       "      <th></th>\n",
       "      <th></th>\n",
       "      <th></th>\n",
       "      <th></th>\n",
       "      <th></th>\n",
       "      <th></th>\n",
       "      <th></th>\n",
       "      <th></th>\n",
       "      <th></th>\n",
       "      <th></th>\n",
       "      <th></th>\n",
       "    </tr>\n",
       "  </thead>\n",
       "  <tbody>\n",
       "    <tr>\n",
       "      <th>1</th>\n",
       "      <td>1303834</td>\n",
       "      <td>23</td>\n",
       "      <td>3</td>\n",
       "      <td>single</td>\n",
       "      <td>rented</td>\n",
       "      <td>no</td>\n",
       "      <td>Mechanical_engineer</td>\n",
       "      <td>Rewa</td>\n",
       "      <td>Madhya_Pradesh</td>\n",
       "      <td>3</td>\n",
       "      <td>13</td>\n",
       "      <td>0</td>\n",
       "    </tr>\n",
       "    <tr>\n",
       "      <th>2</th>\n",
       "      <td>7574516</td>\n",
       "      <td>40</td>\n",
       "      <td>10</td>\n",
       "      <td>single</td>\n",
       "      <td>rented</td>\n",
       "      <td>no</td>\n",
       "      <td>Software_Developer</td>\n",
       "      <td>Parbhani</td>\n",
       "      <td>Maharashtra</td>\n",
       "      <td>9</td>\n",
       "      <td>13</td>\n",
       "      <td>0</td>\n",
       "    </tr>\n",
       "    <tr>\n",
       "      <th>3</th>\n",
       "      <td>3991815</td>\n",
       "      <td>66</td>\n",
       "      <td>4</td>\n",
       "      <td>married</td>\n",
       "      <td>rented</td>\n",
       "      <td>no</td>\n",
       "      <td>Technical_writer</td>\n",
       "      <td>Alappuzha</td>\n",
       "      <td>Kerala</td>\n",
       "      <td>4</td>\n",
       "      <td>10</td>\n",
       "      <td>0</td>\n",
       "    </tr>\n",
       "    <tr>\n",
       "      <th>4</th>\n",
       "      <td>6256451</td>\n",
       "      <td>41</td>\n",
       "      <td>2</td>\n",
       "      <td>single</td>\n",
       "      <td>rented</td>\n",
       "      <td>yes</td>\n",
       "      <td>Software_Developer</td>\n",
       "      <td>Bhubaneswar</td>\n",
       "      <td>Odisha</td>\n",
       "      <td>2</td>\n",
       "      <td>12</td>\n",
       "      <td>1</td>\n",
       "    </tr>\n",
       "    <tr>\n",
       "      <th>5</th>\n",
       "      <td>5768871</td>\n",
       "      <td>47</td>\n",
       "      <td>11</td>\n",
       "      <td>single</td>\n",
       "      <td>rented</td>\n",
       "      <td>no</td>\n",
       "      <td>Civil_servant</td>\n",
       "      <td>Tiruchirappalli[10]</td>\n",
       "      <td>Tamil_Nadu</td>\n",
       "      <td>3</td>\n",
       "      <td>14</td>\n",
       "      <td>1</td>\n",
       "    </tr>\n",
       "    <tr>\n",
       "      <th>...</th>\n",
       "      <td>...</td>\n",
       "      <td>...</td>\n",
       "      <td>...</td>\n",
       "      <td>...</td>\n",
       "      <td>...</td>\n",
       "      <td>...</td>\n",
       "      <td>...</td>\n",
       "      <td>...</td>\n",
       "      <td>...</td>\n",
       "      <td>...</td>\n",
       "      <td>...</td>\n",
       "      <td>...</td>\n",
       "    </tr>\n",
       "    <tr>\n",
       "      <th>251996</th>\n",
       "      <td>8154883</td>\n",
       "      <td>43</td>\n",
       "      <td>13</td>\n",
       "      <td>single</td>\n",
       "      <td>rented</td>\n",
       "      <td>no</td>\n",
       "      <td>Surgeon</td>\n",
       "      <td>Kolkata</td>\n",
       "      <td>West_Bengal</td>\n",
       "      <td>6</td>\n",
       "      <td>11</td>\n",
       "      <td>0</td>\n",
       "    </tr>\n",
       "    <tr>\n",
       "      <th>251997</th>\n",
       "      <td>2843572</td>\n",
       "      <td>26</td>\n",
       "      <td>10</td>\n",
       "      <td>single</td>\n",
       "      <td>rented</td>\n",
       "      <td>no</td>\n",
       "      <td>Army_officer</td>\n",
       "      <td>Rewa</td>\n",
       "      <td>Madhya_Pradesh</td>\n",
       "      <td>6</td>\n",
       "      <td>11</td>\n",
       "      <td>0</td>\n",
       "    </tr>\n",
       "    <tr>\n",
       "      <th>251998</th>\n",
       "      <td>4522448</td>\n",
       "      <td>46</td>\n",
       "      <td>7</td>\n",
       "      <td>single</td>\n",
       "      <td>rented</td>\n",
       "      <td>no</td>\n",
       "      <td>Design_Engineer</td>\n",
       "      <td>Kalyan-Dombivli</td>\n",
       "      <td>Maharashtra</td>\n",
       "      <td>7</td>\n",
       "      <td>12</td>\n",
       "      <td>0</td>\n",
       "    </tr>\n",
       "    <tr>\n",
       "      <th>251999</th>\n",
       "      <td>6507128</td>\n",
       "      <td>45</td>\n",
       "      <td>0</td>\n",
       "      <td>single</td>\n",
       "      <td>rented</td>\n",
       "      <td>no</td>\n",
       "      <td>Graphic_Designer</td>\n",
       "      <td>Pondicherry</td>\n",
       "      <td>Puducherry</td>\n",
       "      <td>0</td>\n",
       "      <td>10</td>\n",
       "      <td>0</td>\n",
       "    </tr>\n",
       "    <tr>\n",
       "      <th>252000</th>\n",
       "      <td>9070230</td>\n",
       "      <td>70</td>\n",
       "      <td>17</td>\n",
       "      <td>single</td>\n",
       "      <td>rented</td>\n",
       "      <td>no</td>\n",
       "      <td>Statistician</td>\n",
       "      <td>Avadi</td>\n",
       "      <td>Tamil_Nadu</td>\n",
       "      <td>7</td>\n",
       "      <td>11</td>\n",
       "      <td>0</td>\n",
       "    </tr>\n",
       "  </tbody>\n",
       "</table>\n",
       "<p>252000 rows × 12 columns</p>\n",
       "</div>"
      ],
      "text/plain": [
       "         Income  Age  Experience Married/Single House_Ownership Car_Ownership  \\\n",
       "Id                                                                              \n",
       "1       1303834   23           3         single          rented            no   \n",
       "2       7574516   40          10         single          rented            no   \n",
       "3       3991815   66           4        married          rented            no   \n",
       "4       6256451   41           2         single          rented           yes   \n",
       "5       5768871   47          11         single          rented            no   \n",
       "...         ...  ...         ...            ...             ...           ...   \n",
       "251996  8154883   43          13         single          rented            no   \n",
       "251997  2843572   26          10         single          rented            no   \n",
       "251998  4522448   46           7         single          rented            no   \n",
       "251999  6507128   45           0         single          rented            no   \n",
       "252000  9070230   70          17         single          rented            no   \n",
       "\n",
       "                 Profession                 CITY           STATE  \\\n",
       "Id                                                                 \n",
       "1       Mechanical_engineer                 Rewa  Madhya_Pradesh   \n",
       "2        Software_Developer             Parbhani     Maharashtra   \n",
       "3          Technical_writer            Alappuzha          Kerala   \n",
       "4        Software_Developer          Bhubaneswar          Odisha   \n",
       "5             Civil_servant  Tiruchirappalli[10]      Tamil_Nadu   \n",
       "...                     ...                  ...             ...   \n",
       "251996              Surgeon              Kolkata     West_Bengal   \n",
       "251997         Army_officer                 Rewa  Madhya_Pradesh   \n",
       "251998      Design_Engineer      Kalyan-Dombivli     Maharashtra   \n",
       "251999     Graphic_Designer          Pondicherry      Puducherry   \n",
       "252000         Statistician                Avadi      Tamil_Nadu   \n",
       "\n",
       "        CURRENT_JOB_YRS  CURRENT_HOUSE_YRS  Risk_Flag  \n",
       "Id                                                     \n",
       "1                     3                 13          0  \n",
       "2                     9                 13          0  \n",
       "3                     4                 10          0  \n",
       "4                     2                 12          1  \n",
       "5                     3                 14          1  \n",
       "...                 ...                ...        ...  \n",
       "251996                6                 11          0  \n",
       "251997                6                 11          0  \n",
       "251998                7                 12          0  \n",
       "251999                0                 10          0  \n",
       "252000                7                 11          0  \n",
       "\n",
       "[252000 rows x 12 columns]"
      ]
     },
     "metadata": {},
     "output_type": "display_data"
    }
   ],
   "source": [
    "data = pd.read_csv('./Recursos/TrainingDataComplete.csv', index_col=0)\n",
    "display(data)"
   ]
  },
  {
   "cell_type": "markdown",
   "metadata": {},
   "source": [
    "### 3. Preprocesamiento"
   ]
  },
  {
   "cell_type": "markdown",
   "metadata": {},
   "source": [
    "- 3.1 Obtener informacion de nuestro Dataframe"
   ]
  },
  {
   "cell_type": "code",
   "execution_count": 4,
   "metadata": {},
   "outputs": [
    {
     "name": "stdout",
     "output_type": "stream",
     "text": [
      "<class 'pandas.core.frame.DataFrame'>\n",
      "Index: 252000 entries, 1 to 252000\n",
      "Data columns (total 12 columns):\n",
      " #   Column             Non-Null Count   Dtype \n",
      "---  ------             --------------   ----- \n",
      " 0   Income             252000 non-null  int64 \n",
      " 1   Age                252000 non-null  int64 \n",
      " 2   Experience         252000 non-null  int64 \n",
      " 3   Married/Single     252000 non-null  object\n",
      " 4   House_Ownership    252000 non-null  object\n",
      " 5   Car_Ownership      252000 non-null  object\n",
      " 6   Profession         252000 non-null  object\n",
      " 7   CITY               252000 non-null  object\n",
      " 8   STATE              252000 non-null  object\n",
      " 9   CURRENT_JOB_YRS    252000 non-null  int64 \n",
      " 10  CURRENT_HOUSE_YRS  252000 non-null  int64 \n",
      " 11  Risk_Flag          252000 non-null  int64 \n",
      "dtypes: int64(6), object(6)\n",
      "memory usage: 25.0+ MB\n"
     ]
    }
   ],
   "source": [
    "# Verificamos info del DF\n",
    "data.info()"
   ]
  },
  {
   "cell_type": "markdown",
   "metadata": {},
   "source": [
    "- 3.2 Separacion de columnas cuantitativas y cualitativas"
   ]
  },
  {
   "cell_type": "code",
   "execution_count": 5,
   "metadata": {},
   "outputs": [
    {
     "name": "stdout",
     "output_type": "stream",
     "text": [
      "Columnas cuantitativas:\n",
      "Index(['Income', 'Age', 'Experience', 'CURRENT_JOB_YRS', 'CURRENT_HOUSE_YRS'], dtype='object')\n",
      "\n",
      "Columnas cualitativas:\n",
      "Index(['Married/Single', 'House_Ownership', 'Car_Ownership', 'Profession',\n",
      "       'CITY', 'STATE', 'Risk_Flag'],\n",
      "      dtype='object')\n"
     ]
    }
   ],
   "source": [
    "# Separamos columnas cualitativas de cuantitativas\n",
    "data['Risk_Flag'] = data['Risk_Flag'].replace({0: 'No', 1: 'Yes'})\n",
    "\n",
    "dataCuantitativas = data.select_dtypes(include=['int64'])\n",
    "dataCualitativas = data.select_dtypes(include=['object'])\n",
    "\n",
    "\n",
    "print(f'Columnas cuantitativas:\\n{dataCuantitativas.columns}')\n",
    "print(f'\\nColumnas cualitativas:\\n{dataCualitativas.columns}')\n",
    "\n"
   ]
  },
  {
   "cell_type": "markdown",
   "metadata": {},
   "source": [
    "- 3.3 Revision de valores nulos"
   ]
  },
  {
   "cell_type": "code",
   "execution_count": 6,
   "metadata": {},
   "outputs": [
    {
     "name": "stdout",
     "output_type": "stream",
     "text": [
      "Income               0\n",
      "Age                  0\n",
      "Experience           0\n",
      "Married/Single       0\n",
      "House_Ownership      0\n",
      "Car_Ownership        0\n",
      "Profession           0\n",
      "CITY                 0\n",
      "STATE                0\n",
      "CURRENT_JOB_YRS      0\n",
      "CURRENT_HOUSE_YRS    0\n",
      "Risk_Flag            0\n",
      "dtype: int64\n"
     ]
    }
   ],
   "source": [
    "# Verificamos valores nulos\n",
    "valores_nulos = data.isnull().sum()\n",
    "print(valores_nulos)"
   ]
  },
  {
   "cell_type": "markdown",
   "metadata": {},
   "source": [
    "- 3.4 Revisamos los valores atipicos"
   ]
  },
  {
   "cell_type": "code",
   "execution_count": 7,
   "metadata": {},
   "outputs": [
    {
     "data": {
      "text/plain": [
       "<Figure size 1500x800 with 0 Axes>"
      ]
     },
     "metadata": {},
     "output_type": "display_data"
    },
    {
     "data": {
      "image/png": "[encoded data removed]",
      "text/plain": [
       "<Figure size 640x480 with 1 Axes>"
      ]
     },
     "metadata": {},
     "output_type": "display_data"
    }
   ],
   "source": [
    "# Distribucion de valores atipicos\n",
    "fig = plt.figure(figsize = (15, 8))\n",
    "dataCuantitativas.plot(kind='box', vert=False)\n",
    "plt.title('Valores Atipicos de los valores cuantitativos')\n",
    "plt.show()"
   ]
  },
  {
   "cell_type": "markdown",
   "metadata": {},
   "source": [
    "- 3.5 Encontrar los valores extremos por metodo de cuantiles"
   ]
  },
  {
   "cell_type": "code",
   "execution_count": 8,
   "metadata": {},
   "outputs": [
    {
     "name": "stdout",
     "output_type": "stream",
     "text": [
      "Limite superior permitido :\n",
      "Income: 14939232.5\n",
      "Age: 110.0\n",
      "Experience: 30.0\n",
      "CURRENT_JOB_YRS: 18.0\n",
      "CURRENT_HOUSE_YRS: 16.0\n",
      "\n",
      "\n",
      "Limite inferior permitido :\n",
      "Income: -4958715.5\n",
      "Age: -10.0\n",
      "Experience: -10.0\n",
      "CURRENT_JOB_YRS: -6.0\n",
      "CURRENT_HOUSE_YRS: 8.0\n"
     ]
    }
   ],
   "source": [
    "# Metodo cuantiles\n",
    "# Encontramos los valores extremos\n",
    "y = dataCuantitativas\n",
    "\n",
    "percentile25 = y.quantile(0.25) #Q1\n",
    "percentile75 = y.quantile(0.75) #Q3\n",
    "\n",
    "iqr = percentile75 - percentile25\n",
    "\n",
    "limiteSuperiorIQR = percentile75 + 1.5 * iqr\n",
    "limiteInferiorIQR = percentile25 - 1.5 * iqr\n",
    "\n",
    "\n",
    "print(f\"Limite superior permitido :\")\n",
    "for col, val in limiteSuperiorIQR.items():\n",
    "    print(f\"{col}: {round(val, 2)}\")\n",
    "\n",
    "print(f\"\\n\\nLimite inferior permitido :\")\n",
    "for col, val in limiteInferiorIQR.items():\n",
    "    print(f\"{col}: {round(val, 2)}\")"
   ]
  },
  {
   "cell_type": "markdown",
   "metadata": {},
   "source": [
    "- 3.6 Identificar los Outliers"
   ]
  },
  {
   "cell_type": "code",
   "execution_count": 9,
   "metadata": {},
   "outputs": [
    {
     "name": "stdout",
     "output_type": "stream",
     "text": [
      "\n",
      "Outliers:\n",
      "\n",
      "Income: Id\n",
      "1        NaN\n",
      "2        NaN\n",
      "3        NaN\n",
      "4        NaN\n",
      "5        NaN\n",
      "          ..\n",
      "251996   NaN\n",
      "251997   NaN\n",
      "251998   NaN\n",
      "251999   NaN\n",
      "252000   NaN\n",
      "Name: Income, Length: 252000, dtype: float64\n",
      "Age: Id\n",
      "1        NaN\n",
      "2        NaN\n",
      "3        NaN\n",
      "4        NaN\n",
      "5        NaN\n",
      "          ..\n",
      "251996   NaN\n",
      "251997   NaN\n",
      "251998   NaN\n",
      "251999   NaN\n",
      "252000   NaN\n",
      "Name: Age, Length: 252000, dtype: float64\n",
      "Experience: Id\n",
      "1        NaN\n",
      "2        NaN\n",
      "3        NaN\n",
      "4        NaN\n",
      "5        NaN\n",
      "          ..\n",
      "251996   NaN\n",
      "251997   NaN\n",
      "251998   NaN\n",
      "251999   NaN\n",
      "252000   NaN\n",
      "Name: Experience, Length: 252000, dtype: float64\n",
      "CURRENT_JOB_YRS: Id\n",
      "1        NaN\n",
      "2        NaN\n",
      "3        NaN\n",
      "4        NaN\n",
      "5        NaN\n",
      "          ..\n",
      "251996   NaN\n",
      "251997   NaN\n",
      "251998   NaN\n",
      "251999   NaN\n",
      "252000   NaN\n",
      "Name: CURRENT_JOB_YRS, Length: 252000, dtype: float64\n",
      "CURRENT_HOUSE_YRS: Id\n",
      "1        NaN\n",
      "2        NaN\n",
      "3        NaN\n",
      "4        NaN\n",
      "5        NaN\n",
      "          ..\n",
      "251996   NaN\n",
      "251997   NaN\n",
      "251998   NaN\n",
      "251999   NaN\n",
      "252000   NaN\n",
      "Name: CURRENT_HOUSE_YRS, Length: 252000, dtype: float64\n"
     ]
    }
   ],
   "source": [
    "# Encontramos Outliers\n",
    "outliers = dataCuantitativas[(y>limiteSuperiorIQR) | (y<limiteInferiorIQR)]\n",
    "print(f\"\\nOutliers:\\n\")\n",
    "for col, val in outliers.items():\n",
    "    print(f\"{col}: {round(val, 2)}\")"
   ]
  },
  {
   "cell_type": "markdown",
   "metadata": {},
   "source": [
    "- 3.7 Pasar los outliers a nulos"
   ]
  },
  {
   "cell_type": "code",
   "execution_count": 10,
   "metadata": {},
   "outputs": [
    {
     "data": {
      "text/html": [
       "<div>\n",
       "<style scoped>\n",
       "    .dataframe tbody tr th:only-of-type {\n",
       "        vertical-align: middle;\n",
       "    }\n",
       "\n",
       "    .dataframe tbody tr th {\n",
       "        vertical-align: top;\n",
       "    }\n",
       "\n",
       "    .dataframe thead th {\n",
       "        text-align: right;\n",
       "    }\n",
       "</style>\n",
       "<table border=\"1\" class=\"dataframe\">\n",
       "  <thead>\n",
       "    <tr style=\"text-align: right;\">\n",
       "      <th></th>\n",
       "      <th>Income</th>\n",
       "      <th>Age</th>\n",
       "      <th>Experience</th>\n",
       "      <th>CURRENT_JOB_YRS</th>\n",
       "      <th>CURRENT_HOUSE_YRS</th>\n",
       "    </tr>\n",
       "    <tr>\n",
       "      <th>Id</th>\n",
       "      <th></th>\n",
       "      <th></th>\n",
       "      <th></th>\n",
       "      <th></th>\n",
       "      <th></th>\n",
       "    </tr>\n",
       "  </thead>\n",
       "  <tbody>\n",
       "    <tr>\n",
       "      <th>1</th>\n",
       "      <td>1303834</td>\n",
       "      <td>23</td>\n",
       "      <td>3</td>\n",
       "      <td>3</td>\n",
       "      <td>13</td>\n",
       "    </tr>\n",
       "    <tr>\n",
       "      <th>2</th>\n",
       "      <td>7574516</td>\n",
       "      <td>40</td>\n",
       "      <td>10</td>\n",
       "      <td>9</td>\n",
       "      <td>13</td>\n",
       "    </tr>\n",
       "    <tr>\n",
       "      <th>3</th>\n",
       "      <td>3991815</td>\n",
       "      <td>66</td>\n",
       "      <td>4</td>\n",
       "      <td>4</td>\n",
       "      <td>10</td>\n",
       "    </tr>\n",
       "    <tr>\n",
       "      <th>4</th>\n",
       "      <td>6256451</td>\n",
       "      <td>41</td>\n",
       "      <td>2</td>\n",
       "      <td>2</td>\n",
       "      <td>12</td>\n",
       "    </tr>\n",
       "    <tr>\n",
       "      <th>5</th>\n",
       "      <td>5768871</td>\n",
       "      <td>47</td>\n",
       "      <td>11</td>\n",
       "      <td>3</td>\n",
       "      <td>14</td>\n",
       "    </tr>\n",
       "    <tr>\n",
       "      <th>...</th>\n",
       "      <td>...</td>\n",
       "      <td>...</td>\n",
       "      <td>...</td>\n",
       "      <td>...</td>\n",
       "      <td>...</td>\n",
       "    </tr>\n",
       "    <tr>\n",
       "      <th>251996</th>\n",
       "      <td>8154883</td>\n",
       "      <td>43</td>\n",
       "      <td>13</td>\n",
       "      <td>6</td>\n",
       "      <td>11</td>\n",
       "    </tr>\n",
       "    <tr>\n",
       "      <th>251997</th>\n",
       "      <td>2843572</td>\n",
       "      <td>26</td>\n",
       "      <td>10</td>\n",
       "      <td>6</td>\n",
       "      <td>11</td>\n",
       "    </tr>\n",
       "    <tr>\n",
       "      <th>251998</th>\n",
       "      <td>4522448</td>\n",
       "      <td>46</td>\n",
       "      <td>7</td>\n",
       "      <td>7</td>\n",
       "      <td>12</td>\n",
       "    </tr>\n",
       "    <tr>\n",
       "      <th>251999</th>\n",
       "      <td>6507128</td>\n",
       "      <td>45</td>\n",
       "      <td>0</td>\n",
       "      <td>0</td>\n",
       "      <td>10</td>\n",
       "    </tr>\n",
       "    <tr>\n",
       "      <th>252000</th>\n",
       "      <td>9070230</td>\n",
       "      <td>70</td>\n",
       "      <td>17</td>\n",
       "      <td>7</td>\n",
       "      <td>11</td>\n",
       "    </tr>\n",
       "  </tbody>\n",
       "</table>\n",
       "<p>252000 rows × 5 columns</p>\n",
       "</div>"
      ],
      "text/plain": [
       "         Income  Age  Experience  CURRENT_JOB_YRS  CURRENT_HOUSE_YRS\n",
       "Id                                                                  \n",
       "1       1303834   23           3                3                 13\n",
       "2       7574516   40          10                9                 13\n",
       "3       3991815   66           4                4                 10\n",
       "4       6256451   41           2                2                 12\n",
       "5       5768871   47          11                3                 14\n",
       "...         ...  ...         ...              ...                ...\n",
       "251996  8154883   43          13                6                 11\n",
       "251997  2843572   26          10                6                 11\n",
       "251998  4522448   46           7                7                 12\n",
       "251999  6507128   45           0                0                 10\n",
       "252000  9070230   70          17                7                 11\n",
       "\n",
       "[252000 rows x 5 columns]"
      ]
     },
     "metadata": {},
     "output_type": "display_data"
    }
   ],
   "source": [
    "# Convertir outliers en nulos\n",
    "dataCuantitativas = dataCuantitativas[(y<=limiteSuperiorIQR) & (y>=limiteInferiorIQR)]\n",
    "display(dataCuantitativas)"
   ]
  },
  {
   "cell_type": "markdown",
   "metadata": {},
   "source": [
    "- 3.8 Verificar la ausencia de valores nulos"
   ]
  },
  {
   "cell_type": "code",
   "execution_count": 11,
   "metadata": {},
   "outputs": [
    {
     "name": "stdout",
     "output_type": "stream",
     "text": [
      "Income               0\n",
      "Age                  0\n",
      "Experience           0\n",
      "CURRENT_JOB_YRS      0\n",
      "CURRENT_HOUSE_YRS    0\n",
      "dtype: int64\n"
     ]
    }
   ],
   "source": [
    "# Corroboramos valores nulos\n",
    "valores_nulos = dataCuantitativas.isnull().sum()\n",
    "print(valores_nulos)"
   ]
  },
  {
   "cell_type": "markdown",
   "metadata": {},
   "source": [
    "- 3.9 Unir las columnas cuantitativas y cualitativas"
   ]
  },
  {
   "cell_type": "code",
   "execution_count": 12,
   "metadata": {},
   "outputs": [],
   "source": [
    "data = pd.concat([dataCualitativas, dataCuantitativas], axis = 1)"
   ]
  },
  {
   "cell_type": "markdown",
   "metadata": {},
   "source": [
    "### 4. Obtencion de caracteristicas"
   ]
  },
  {
   "cell_type": "markdown",
   "metadata": {},
   "source": [
    "- Generamos las graficas de cada una de las columnas"
   ]
  },
  {
   "cell_type": "code",
   "execution_count": 16,
   "metadata": {},
   "outputs": [
    {
     "name": "stdout",
     "output_type": "stream",
     "text": [
      "['Married/Single', 'House_Ownership', 'Car_Ownership', 'Profession', 'CITY', 'STATE', 'Risk_Flag', 'Income', 'Age', 'Experience', 'CURRENT_JOB_YRS', 'CURRENT_HOUSE_YRS']\n"
     ]
    },
    {
     "data": {
      "image/png": "[encoded data removed]",
      "text/plain": [
       "<Figure size 1000x500 with 1 Axes>"
      ]
     },
     "metadata": {},
     "output_type": "display_data"
    },
    {
     "data": {
      "image/png": "[encoded data removed]",
      "text/plain": [
       "<Figure size 1000x500 with 1 Axes>"
      ]
     },
     "metadata": {},
     "output_type": "display_data"
    }
   ],
   "source": [
    "#Arreglo de nombre de las columnas\n",
    "columnNames = []\n",
    "for name in data.columns:\n",
    "    columnNames.append(name)\n",
    "    \n",
    "print(columnNames)\n",
    "    \n",
    "#Mostrar todas las graficas\n",
    "\n",
    "for name in columnNames:\n",
    "    \n",
    "    if name == \"Married/Single\":\n",
    "        \n",
    "        table = freq_tbl(data['Married/Single'])\n",
    "        Filtro = table[table['frequency'] > 1]\n",
    "        Filtro_setter = Filtro.set_index(\"Married/Single\")\n",
    "        \n",
    "        fig, axes = plt.subplots(1, 1, figsize=(10, 12))\n",
    "        Filtro_setter[\"frequency\"].plot(kind=\"pie\", figsize=(10,5), shadow=True, autopct=\"%0.1f %%\")\n",
    "        axes.set_title('Married/Single Distribution')\n",
    "        \n",
    "    if name == \"House_Ownership\":\n",
    "        \n",
    "        table = freq_tbl(data['House_Ownership'])\n",
    "        Filtro1 = table[table['frequency'] > 20]\n",
    "        Filtro_setter = Filtro1.set_index(\"House_Ownership\")\n",
    "\n",
    "        \n",
    "        fig2, axes = plt.subplots(1, 1, figsize=(10, 12))\n",
    "        Filtro_setter[\"frequency\"].plot(kind=\"pie\", figsize=(10,5), shadow=True, autopct=\"%0.1f %%\")\n",
    "        axes.set_title('House Ownership Distribution')\n"
   ]
  },
  {
   "cell_type": "markdown",
   "metadata": {},
   "source": [
    "### 5. Analisis de correlacion por regresion logistica"
   ]
  },
  {
   "cell_type": "markdown",
   "metadata": {},
   "source": [
    "- En este caso contamos con la necesidad de aplicar 10 casos diferentes de correlacion logistica, para esto generaremos los 10 casos especificos pensados como viables por el equipo y de este modo tratar de encontrar un buen modelo.\n",
    "\n",
    "- Para este caso y evitar generar 10 bloques de codigo repetido, optaremos por generar funciones y modularizar cada uno de los pasos."
   ]
  },
  {
   "cell_type": "markdown",
   "metadata": {},
   "source": [
    "colDicotomicas = data[]"
   ]
  },
  {
   "cell_type": "code",
   "execution_count": null,
   "metadata": {},
   "outputs": [],
   "source": []
  }
 ],
 "metadata": {
  "kernelspec": {
   "display_name": "Python 3",
   "language": "python",
   "name": "python3"
  },
  "language_info": {
   "codemirror_mode": {
    "name": "ipython",
    "version": 3
   },
   "file_extension": ".py",
   "mimetype": "text/x-python",
   "name": "python",
   "nbconvert_exporter": "python",
   "pygments_lexer": "ipython3",
   "version": "3.11.5"
  }
 },
 "nbformat": 4,
 "nbformat_minor": 2
}
